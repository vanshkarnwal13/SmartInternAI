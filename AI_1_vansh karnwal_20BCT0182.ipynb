{
  "nbformat": 4,
  "nbformat_minor": 0,
  "metadata": {
    "colab": {
      "provenance": [],
      "toc_visible": true
    },
    "kernelspec": {
      "name": "python3",
      "display_name": "Python 3"
    },
    "language_info": {
      "name": "python"
    }
  },
  "cells": [
    {
      "cell_type": "markdown",
      "source": [
        "TASK-1\n",
        "\n",
        "Create a pandas dataframe (DataFrame name as 'dF) with numpy random values (4 features and 4 observation)"
      ],
      "metadata": {
        "id": "jujxtwDJATc1"
      }
    },
    {
      "cell_type": "code",
      "execution_count": 3,
      "metadata": {
        "colab": {
          "base_uri": "https://localhost:8080/"
        },
        "id": "oca8WMNJ_Kb3",
        "outputId": "00df7e0b-196d-40f0-ccf9-7e37b74c1fef"
      },
      "outputs": [
        {
          "output_type": "stream",
          "name": "stdout",
          "text": [
            "   Feature 1  Feature 2  Feature 3  Feature 4\n",
            "0  -1.560352  -0.030978  -0.620928  -1.464580\n",
            "1   1.411946  -0.476732  -0.780469   1.070268\n",
            "2  -1.282293  -1.327479   0.126338   0.862194\n",
            "3   0.696737  -0.334565  -0.997526   1.598908\n"
          ]
        }
      ],
      "source": [
        "import pandas as pd\n",
        "import numpy as np\n",
        "\n",
        "\n",
        "np.random.seed(50)\n",
        "data = np.random.randn(4, 4)\n",
        "dF = pd.DataFrame(data, columns=['Feature 1', 'Feature 2', 'Feature 3', 'Feature 4'])\n",
        "print(dF)\n"
      ]
    },
    {
      "cell_type": "markdown",
      "source": [
        "TASK-2\n",
        "\n",
        "Rename the task - 1 'df dataframe column names to 'Random value 1', 'Random value 2', 'Random value 3' & Random value 4'"
      ],
      "metadata": {
        "id": "uD5CAJN4AV14"
      }
    },
    {
      "cell_type": "code",
      "source": [
        "dF.columns = ['Random value 1', 'Random value 2', 'Random value 3', 'Random value 4']\n",
        "print(dF)"
      ],
      "metadata": {
        "colab": {
          "base_uri": "https://localhost:8080/"
        },
        "id": "NTiPkPl5AR9y",
        "outputId": "f9fe76ab-8550-4453-dab8-b1c6ce6d51fe"
      },
      "execution_count": 4,
      "outputs": [
        {
          "output_type": "stream",
          "name": "stdout",
          "text": [
            "   Random value 1  Random value 2  Random value 3  Random value 4\n",
            "0       -1.560352       -0.030978       -0.620928       -1.464580\n",
            "1        1.411946       -0.476732       -0.780469        1.070268\n",
            "2       -1.282293       -1.327479        0.126338        0.862194\n",
            "3        0.696737       -0.334565       -0.997526        1.598908\n"
          ]
        }
      ]
    },
    {
      "cell_type": "markdown",
      "source": [
        "TASK-3\n",
        "\n",
        "Find the descriptive statistics of the 'df dataframe."
      ],
      "metadata": {
        "id": "EugYGH9wASm0"
      }
    },
    {
      "cell_type": "code",
      "source": [
        "statistics = dF.describe()\n",
        "print(statistics)"
      ],
      "metadata": {
        "colab": {
          "base_uri": "https://localhost:8080/"
        },
        "id": "IWhFS4IYAn5I",
        "outputId": "a70b5486-1791-4a70-e45d-e1028680b244"
      },
      "execution_count": 7,
      "outputs": [
        {
          "output_type": "stream",
          "name": "stdout",
          "text": [
            "       Random value 1  Random value 2  Random value 3  Random value 4\n",
            "count        4.000000        4.000000        4.000000        4.000000\n",
            "mean        -0.183490       -0.542438       -0.568147        0.516697\n",
            "std          1.463253        0.555401        0.488038        1.356767\n",
            "min         -1.560352       -1.327479       -0.997526       -1.464580\n",
            "25%         -1.351807       -0.689419       -0.834733        0.280500\n",
            "50%         -0.292778       -0.405649       -0.700699        0.966231\n",
            "75%          0.875539       -0.258668       -0.434112        1.202428\n",
            "max          1.411946       -0.030978        0.126338        1.598908\n"
          ]
        }
      ]
    },
    {
      "cell_type": "markdown",
      "source": [
        "TASK-4\n",
        "\n",
        "Check for the null values in 'df and find the data trpe of the columns."
      ],
      "metadata": {
        "id": "0caP2K5SAzlK"
      }
    },
    {
      "cell_type": "code",
      "source": [
        "null_values = dF.isnull().sum()\n",
        "data_types = dF.dtypes\n",
        "print(\"Null Values:\")\n",
        "print(null_values)\n",
        "print(\"\\nData Types:\")\n",
        "print(data_types)"
      ],
      "metadata": {
        "colab": {
          "base_uri": "https://localhost:8080/"
        },
        "id": "MRxSCKGAAwuM",
        "outputId": "d789f20b-53e3-42b5-c244-1bc24f1bc001"
      },
      "execution_count": 12,
      "outputs": [
        {
          "output_type": "stream",
          "name": "stdout",
          "text": [
            "Null Values:\n",
            "Random value 1    0\n",
            "Random value 2    0\n",
            "Random value 3    0\n",
            "Random value 4    0\n",
            "dtype: int64\n",
            "\n",
            "Data Types:\n",
            "Random value 1    float64\n",
            "Random value 2    float64\n",
            "Random value 3    float64\n",
            "Random value 4    float64\n",
            "dtype: object\n"
          ]
        }
      ]
    },
    {
      "cell_type": "markdown",
      "source": [
        "TASK-5\n",
        "\n",
        "Display the 'Random value 2' & 'Random value 3' columns with location method and index location method."
      ],
      "metadata": {
        "id": "F8ONMASvA0s8"
      }
    },
    {
      "cell_type": "code",
      "source": [
        "location_columns = dF[['Random value 2', 'Random value 3']]\n",
        "print(\"Location Method:\")\n",
        "print(location_columns)\n",
        "\n",
        "# Display columns using the index location method\n",
        "index_location_columns = dF.iloc[:, [1, 2]]\n",
        "print(\"\\nIndex Location Method:\")\n",
        "print(index_location_columns)"
      ],
      "metadata": {
        "colab": {
          "base_uri": "https://localhost:8080/"
        },
        "id": "a2UZQhe0Ay_F",
        "outputId": "0ff6b816-f24f-4aa7-8cbe-009d91ebb8bb"
      },
      "execution_count": 13,
      "outputs": [
        {
          "output_type": "stream",
          "name": "stdout",
          "text": [
            "Location Method:\n",
            "   Random value 2  Random value 3\n",
            "0       -0.030978       -0.620928\n",
            "1       -0.476732       -0.780469\n",
            "2       -1.327479        0.126338\n",
            "3       -0.334565       -0.997526\n",
            "\n",
            "Index Location Method:\n",
            "   Random value 2  Random value 3\n",
            "0       -0.030978       -0.620928\n",
            "1       -0.476732       -0.780469\n",
            "2       -1.327479        0.126338\n",
            "3       -0.334565       -0.997526\n"
          ]
        }
      ]
    }
  ]
}